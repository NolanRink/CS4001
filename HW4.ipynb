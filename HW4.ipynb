{
  "nbformat": 4,
  "nbformat_minor": 0,
  "metadata": {
    "colab": {
      "provenance": [],
      "authorship_tag": "ABX9TyOpdsxt20cRpraJN0oC+Vac",
      "include_colab_link": true
    },
    "kernelspec": {
      "name": "python3",
      "display_name": "Python 3"
    },
    "language_info": {
      "name": "python"
    },
    "widgets": {
      "application/vnd.jupyter.widget-state+json": {
        "df61a405699d40f5bfd6255d55db3590": {
          "model_module": "@jupyter-widgets/controls",
          "model_name": "DropdownModel",
          "model_module_version": "1.5.0",
          "state": {
            "_dom_classes": [],
            "_model_module": "@jupyter-widgets/controls",
            "_model_module_version": "1.5.0",
            "_model_name": "DropdownModel",
            "_options_labels": [
              "488083972",
              "515175260"
            ],
            "_view_count": null,
            "_view_module": "@jupyter-widgets/controls",
            "_view_module_version": "1.5.0",
            "_view_name": "DropdownView",
            "description": "Cell ID:",
            "description_tooltip": null,
            "disabled": false,
            "index": 0,
            "layout": "IPY_MODEL_a29541bf62fa41538804b99ff6207580",
            "style": "IPY_MODEL_5386d2f580d044328b97af2cd0a2d7eb"
          }
        },
        "a29541bf62fa41538804b99ff6207580": {
          "model_module": "@jupyter-widgets/base",
          "model_name": "LayoutModel",
          "model_module_version": "1.2.0",
          "state": {
            "_model_module": "@jupyter-widgets/base",
            "_model_module_version": "1.2.0",
            "_model_name": "LayoutModel",
            "_view_count": null,
            "_view_module": "@jupyter-widgets/base",
            "_view_module_version": "1.2.0",
            "_view_name": "LayoutView",
            "align_content": null,
            "align_items": null,
            "align_self": null,
            "border": null,
            "bottom": null,
            "display": null,
            "flex": null,
            "flex_flow": null,
            "grid_area": null,
            "grid_auto_columns": null,
            "grid_auto_flow": null,
            "grid_auto_rows": null,
            "grid_column": null,
            "grid_gap": null,
            "grid_row": null,
            "grid_template_areas": null,
            "grid_template_columns": null,
            "grid_template_rows": null,
            "height": null,
            "justify_content": null,
            "justify_items": null,
            "left": null,
            "margin": null,
            "max_height": null,
            "max_width": null,
            "min_height": null,
            "min_width": null,
            "object_fit": null,
            "object_position": null,
            "order": null,
            "overflow": null,
            "overflow_x": null,
            "overflow_y": null,
            "padding": null,
            "right": null,
            "top": null,
            "visibility": null,
            "width": null
          }
        },
        "5386d2f580d044328b97af2cd0a2d7eb": {
          "model_module": "@jupyter-widgets/controls",
          "model_name": "DescriptionStyleModel",
          "model_module_version": "1.5.0",
          "state": {
            "_model_module": "@jupyter-widgets/controls",
            "_model_module_version": "1.5.0",
            "_model_name": "DescriptionStyleModel",
            "_view_count": null,
            "_view_module": "@jupyter-widgets/base",
            "_view_module_version": "1.2.0",
            "_view_name": "StyleView",
            "description_width": ""
          }
        }
      }
    }
  },
  "cells": [
    {
      "cell_type": "markdown",
      "metadata": {
        "id": "view-in-github",
        "colab_type": "text"
      },
      "source": [
        "<a href=\"https://colab.research.google.com/github/NolanRink/CS4001/blob/main/HW4.ipynb\" target=\"_parent\"><img src=\"https://colab.research.google.com/assets/colab-badge.svg\" alt=\"Open In Colab\"/></a>"
      ]
    },
    {
      "cell_type": "code",
      "execution_count": 1,
      "metadata": {
        "colab": {
          "base_uri": "https://localhost:8080/"
        },
        "id": "PH-XgGASDUXV",
        "outputId": "c4b1de48-bb13-43f0-8eca-d8d65c648992"
      },
      "outputs": [
        {
          "output_type": "stream",
          "name": "stdout",
          "text": [
            "Requirement already satisfied: pip in /usr/local/lib/python3.11/dist-packages (24.1.2)\n",
            "Collecting pip\n",
            "  Downloading pip-25.0.1-py3-none-any.whl.metadata (3.7 kB)\n",
            "Downloading pip-25.0.1-py3-none-any.whl (1.8 MB)\n",
            "\u001b[2K   \u001b[90m━━━━━━━━━━━━━━━━━━━━━━━━━━━━━━━━━━━━━━━━\u001b[0m \u001b[32m1.8/1.8 MB\u001b[0m \u001b[31m19.7 MB/s\u001b[0m eta \u001b[36m0:00:00\u001b[0m\n",
            "\u001b[?25hInstalling collected packages: pip\n",
            "  Attempting uninstall: pip\n",
            "    Found existing installation: pip 24.1.2\n",
            "    Uninstalling pip-24.1.2:\n",
            "      Successfully uninstalled pip-24.1.2\n",
            "Successfully installed pip-25.0.1\n",
            "  Installing build dependencies ... \u001b[?25l\u001b[?25hdone\n",
            "  Getting requirements to build wheel ... \u001b[?25l\u001b[?25hdone\n",
            "  Preparing metadata (pyproject.toml) ... \u001b[?25l\u001b[?25hdone\n",
            "\u001b[2K   \u001b[90m━━━━━━━━━━━━━━━━━━━━━━━━━━━━━━━━━━━━━━━━\u001b[0m \u001b[32m3.1/3.1 MB\u001b[0m \u001b[31m57.4 MB/s\u001b[0m eta \u001b[36m0:00:00\u001b[0m\n",
            "\u001b[2K   \u001b[90m━━━━━━━━━━━━━━━━━━━━━━━━━━━━━━━━━━━━━━━━\u001b[0m \u001b[32m12.0/12.0 MB\u001b[0m \u001b[31m131.4 MB/s\u001b[0m eta \u001b[36m0:00:00\u001b[0m\n",
            "\u001b[2K   \u001b[90m━━━━━━━━━━━━━━━━━━━━━━━━━━━━━━━━━━━━━━━━\u001b[0m \u001b[32m15.2/15.2 MB\u001b[0m \u001b[31m118.9 MB/s\u001b[0m eta \u001b[36m0:00:00\u001b[0m\n",
            "\u001b[2K   \u001b[90m━━━━━━━━━━━━━━━━━━━━━━━━━━━━━━━━━━━━━━━━\u001b[0m \u001b[32m17.1/17.1 MB\u001b[0m \u001b[31m135.9 MB/s\u001b[0m eta \u001b[36m0:00:00\u001b[0m\n",
            "\u001b[2K   \u001b[90m━━━━━━━━━━━━━━━━━━━━━━━━━━━━━━━━━━━━━━━━\u001b[0m \u001b[32m34.1/34.1 MB\u001b[0m \u001b[31m59.0 MB/s\u001b[0m eta \u001b[36m0:00:00\u001b[0m\n",
            "\u001b[2K   \u001b[90m━━━━━━━━━━━━━━━━━━━━━━━━━━━━━━━━━━━━━━━━\u001b[0m \u001b[32m973.1/973.1 kB\u001b[0m \u001b[31m38.3 MB/s\u001b[0m eta \u001b[36m0:00:00\u001b[0m\n",
            "\u001b[2K   \u001b[90m━━━━━━━━━━━━━━━━━━━━━━━━━━━━━━━━━━━━━━━━\u001b[0m \u001b[32m2.7/2.7 MB\u001b[0m \u001b[31m86.3 MB/s\u001b[0m eta \u001b[36m0:00:00\u001b[0m\n",
            "\u001b[2K   \u001b[90m━━━━━━━━━━━━━━━━━━━━━━━━━━━━━━━━━━━━━━━━\u001b[0m \u001b[32m1.4/1.4 MB\u001b[0m \u001b[31m45.5 MB/s\u001b[0m eta \u001b[36m0:00:00\u001b[0m\n",
            "\u001b[2K   \u001b[90m━━━━━━━━━━━━━━━━━━━━━━━━━━━━━━━━━━━━━━━━\u001b[0m \u001b[32m3.0/3.0 MB\u001b[0m \u001b[31m76.4 MB/s\u001b[0m eta \u001b[36m0:00:00\u001b[0m\n",
            "\u001b[2K   \u001b[90m━━━━━━━━━━━━━━━━━━━━━━━━━━━━━━━━━━━━━━━━\u001b[0m \u001b[32m14.9/14.9 MB\u001b[0m \u001b[31m91.1 MB/s\u001b[0m eta \u001b[36m0:00:00\u001b[0m\n",
            "\u001b[2K   \u001b[90m━━━━━━━━━━━━━━━━━━━━━━━━━━━━━━━━━━━━━━━━\u001b[0m \u001b[32m52.3/52.3 MB\u001b[0m \u001b[31m44.0 MB/s\u001b[0m eta \u001b[36m0:00:00\u001b[0m\n",
            "\u001b[2K   \u001b[90m━━━━━━━━━━━━━━━━━━━━━━━━━━━━━━━━━━━━━━━━\u001b[0m \u001b[32m4.4/4.4 MB\u001b[0m \u001b[31m82.1 MB/s\u001b[0m eta \u001b[36m0:00:00\u001b[0m\n",
            "\u001b[2K   \u001b[90m━━━━━━━━━━━━━━━━━━━━━━━━━━━━━━━━━━━━━━━━\u001b[0m \u001b[32m13.3/13.3 MB\u001b[0m \u001b[31m137.0 MB/s\u001b[0m eta \u001b[36m0:00:00\u001b[0m\n",
            "\u001b[2K   \u001b[90m━━━━━━━━━━━━━━━━━━━━━━━━━━━━━━━━━━━━━━━━\u001b[0m \u001b[32m739.1/739.1 kB\u001b[0m \u001b[31m28.1 MB/s\u001b[0m eta \u001b[36m0:00:00\u001b[0m\n",
            "\u001b[?25h  Building wheel for argschema (pyproject.toml) ... \u001b[?25l\u001b[?25hdone\n",
            "\u001b[31mERROR: pip's dependency resolver does not currently take into account all the packages that are installed. This behaviour is the source of the following dependency conflicts.\n",
            "google-colab 1.0.0 requires pandas==2.2.2, but you have pandas 1.5.3 which is incompatible.\n",
            "imbalanced-learn 0.13.0 requires numpy<3,>=1.24.3, but you have numpy 1.23.5 which is incompatible.\n",
            "langchain 0.3.19 requires numpy<2,>=1.26.4; python_version < \"3.12\", but you have numpy 1.23.5 which is incompatible.\n",
            "mizani 0.13.1 requires pandas>=2.2.0, but you have pandas 1.5.3 which is incompatible.\n",
            "pymc 5.20.1 requires numpy>=1.25.0, but you have numpy 1.23.5 which is incompatible.\n",
            "dask-expr 1.1.19 requires pandas>=2, but you have pandas 1.5.3 which is incompatible.\n",
            "dask-cudf-cu12 24.12.0 requires pandas<2.2.4dev0,>=2.0, but you have pandas 1.5.3 which is incompatible.\n",
            "jax 0.4.33 requires numpy>=1.24, but you have numpy 1.23.5 which is incompatible.\n",
            "tensorflow 2.18.0 requires numpy<2.1.0,>=1.26.0, but you have numpy 1.23.5 which is incompatible.\n",
            "plotnine 0.14.5 requires pandas>=2.2.0, but you have pandas 1.5.3 which is incompatible.\n",
            "chex 0.1.89 requires numpy>=1.24.1, but you have numpy 1.23.5 which is incompatible.\n",
            "cvxpy 1.6.2 requires scipy>=1.11.0, but you have scipy 1.10.1 which is incompatible.\n",
            "albucore 0.0.23 requires numpy>=1.24.4, but you have numpy 1.23.5 which is incompatible.\n",
            "jaxlib 0.4.33 requires numpy>=1.24, but you have numpy 1.23.5 which is incompatible.\n",
            "treescope 0.1.9 requires numpy>=1.25.2, but you have numpy 1.23.5 which is incompatible.\n",
            "cudf-cu12 24.12.0 requires pandas<2.2.4dev0,>=2.0, but you have pandas 1.5.3 which is incompatible.\n",
            "albumentations 2.0.4 requires numpy>=1.24.4, but you have numpy 1.23.5 which is incompatible.\n",
            "numba 0.61.0 requires numpy<2.2,>=1.24, but you have numpy 1.23.5 which is incompatible.\n",
            "bigframes 1.38.0 requires numpy>=1.24.0, but you have numpy 1.23.5 which is incompatible.\u001b[0m\u001b[31m\n",
            "\u001b[0m"
          ]
        }
      ],
      "source": [
        "!pip install --upgrade pip\n",
        "!pip install --quiet allensdk neuron"
      ]
    },
    {
      "cell_type": "code",
      "source": [
        "import math\n",
        "import matplotlib.pyplot as plt\n",
        "from allensdk.api.queries.biophysical_api import BiophysicalApi\n",
        "from allensdk.model.biophys_sim.config import Config\n",
        "from allensdk.model.biophysical.utils import Utils\n",
        "import ipywidgets as widgets\n",
        "from IPython.display import display"
      ],
      "metadata": {
        "id": "eQZoivcMGM53"
      },
      "execution_count": 2,
      "outputs": []
    },
    {
      "cell_type": "markdown",
      "source": [
        "# User provides Specimen, Input Resistance, and Cell ID"
      ],
      "metadata": {
        "id": "JFs_JAxrz8mZ"
      }
    },
    {
      "cell_type": "code",
      "source": [
        "specimen_id = int(input(\"Enter the specimen ID: \"))\n",
        "desired_R_in = float(input(\"Enter the desired input resistance (in MOhm): \"))\n",
        "bp = BiophysicalApi()\n",
        "x = bp.get_neuronal_models(int(specimen_id))\n",
        "cell_ids = [i['id'] for i in x]\n",
        "\n",
        "cell_id_dropdown = widgets.Dropdown(\n",
        "    options=cell_ids,\n",
        "    description='Cell ID:'\n",
        ")\n",
        "\n",
        "# Display the dropdown\n",
        "display(cell_id_dropdown)\n",
        "\n",
        "cell_id = cell_id_dropdown.value"
      ],
      "metadata": {
        "id": "pcFPEBHLNUv8",
        "colab": {
          "base_uri": "https://localhost:8080/",
          "height": 84,
          "referenced_widgets": [
            "df61a405699d40f5bfd6255d55db3590",
            "a29541bf62fa41538804b99ff6207580",
            "5386d2f580d044328b97af2cd0a2d7eb"
          ]
        },
        "outputId": "ddfe6931-2373-42c2-ee32-9896aa7da676"
      },
      "execution_count": 3,
      "outputs": [
        {
          "name": "stdout",
          "output_type": "stream",
          "text": [
            "Enter the specimen ID: 486132712\n",
            "Enter the desired input resistance (in MOhm): 0.1\n"
          ]
        },
        {
          "output_type": "display_data",
          "data": {
            "text/plain": [
              "Dropdown(description='Cell ID:', options=(488083972, 515175260), value=488083972)"
            ],
            "application/vnd.jupyter.widget-view+json": {
              "version_major": 2,
              "version_minor": 0,
              "model_id": "df61a405699d40f5bfd6255d55db3590"
            }
          },
          "metadata": {}
        }
      ]
    },
    {
      "cell_type": "code",
      "source": [
        "cell_id = cell_id_dropdown.value\n",
        "print('Selected cell ID:', cell_id)"
      ],
      "metadata": {
        "id": "PB6D3-Is_tIo",
        "colab": {
          "base_uri": "https://localhost:8080/"
        },
        "outputId": "8e8db752-7f15-497b-9f38-8443c7573e09"
      },
      "execution_count": 4,
      "outputs": [
        {
          "output_type": "stream",
          "name": "stdout",
          "text": [
            "Selected cell ID: 488083972\n"
          ]
        }
      ]
    },
    {
      "cell_type": "code",
      "source": [
        "bp.cache_stimulus = False\n",
        "print(f\"Downloading cell data for cell ID {cell_id}...\")\n",
        "bp.cache_data(int(cell_id))\n",
        "print(\"Download complete.\")"
      ],
      "metadata": {
        "id": "SlRTbsqapnRo",
        "colab": {
          "base_uri": "https://localhost:8080/"
        },
        "outputId": "cd1f00d9-7514-43f1-80e9-81073328b8e0"
      },
      "execution_count": 5,
      "outputs": [
        {
          "output_type": "stream",
          "name": "stdout",
          "text": [
            "Downloading cell data for cell ID 488083972...\n"
          ]
        },
        {
          "output_type": "stream",
          "name": "stderr",
          "text": [
            "2025-02-28 22:04:50,861 allensdk.api.api.retrieve_file_over_http INFO     Downloading URL: http://api.brain-map.org/api/v2/well_known_file_download/512328536\n",
            "INFO:allensdk.api.api.retrieve_file_over_http:Downloading URL: http://api.brain-map.org/api/v2/well_known_file_download/512328536\n",
            "2025-02-28 22:04:50,957 allensdk.api.api.retrieve_file_over_http INFO     Downloading URL: http://api.brain-map.org/api/v2/well_known_file_download/512328544\n",
            "INFO:allensdk.api.api.retrieve_file_over_http:Downloading URL: http://api.brain-map.org/api/v2/well_known_file_download/512328544\n",
            "2025-02-28 22:04:51,011 allensdk.api.api.retrieve_file_over_http INFO     Downloading URL: http://api.brain-map.org/api/v2/well_known_file_download/395337293\n",
            "INFO:allensdk.api.api.retrieve_file_over_http:Downloading URL: http://api.brain-map.org/api/v2/well_known_file_download/395337293\n",
            "2025-02-28 22:04:51,059 allensdk.api.api.retrieve_file_over_http INFO     Downloading URL: http://api.brain-map.org/api/v2/well_known_file_download/395337054\n",
            "INFO:allensdk.api.api.retrieve_file_over_http:Downloading URL: http://api.brain-map.org/api/v2/well_known_file_download/395337054\n",
            "2025-02-28 22:04:51,107 allensdk.api.api.retrieve_file_over_http INFO     Downloading URL: http://api.brain-map.org/api/v2/well_known_file_download/395337225\n",
            "INFO:allensdk.api.api.retrieve_file_over_http:Downloading URL: http://api.brain-map.org/api/v2/well_known_file_download/395337225\n",
            "2025-02-28 22:04:51,153 allensdk.api.api.retrieve_file_over_http INFO     Downloading URL: http://api.brain-map.org/api/v2/well_known_file_download/395337019\n",
            "INFO:allensdk.api.api.retrieve_file_over_http:Downloading URL: http://api.brain-map.org/api/v2/well_known_file_download/395337019\n",
            "2025-02-28 22:04:51,200 allensdk.api.api.retrieve_file_over_http INFO     Downloading URL: http://api.brain-map.org/api/v2/well_known_file_download/395337003\n",
            "INFO:allensdk.api.api.retrieve_file_over_http:Downloading URL: http://api.brain-map.org/api/v2/well_known_file_download/395337003\n",
            "2025-02-28 22:04:51,245 allensdk.api.api.retrieve_file_over_http INFO     Downloading URL: http://api.brain-map.org/api/v2/well_known_file_download/395337050\n",
            "INFO:allensdk.api.api.retrieve_file_over_http:Downloading URL: http://api.brain-map.org/api/v2/well_known_file_download/395337050\n",
            "2025-02-28 22:04:51,291 allensdk.api.api.retrieve_file_over_http INFO     Downloading URL: http://api.brain-map.org/api/v2/well_known_file_download/395337042\n",
            "INFO:allensdk.api.api.retrieve_file_over_http:Downloading URL: http://api.brain-map.org/api/v2/well_known_file_download/395337042\n",
            "2025-02-28 22:04:51,340 allensdk.api.api.retrieve_file_over_http INFO     Downloading URL: http://api.brain-map.org/api/v2/well_known_file_download/395337011\n",
            "INFO:allensdk.api.api.retrieve_file_over_http:Downloading URL: http://api.brain-map.org/api/v2/well_known_file_download/395337011\n",
            "2025-02-28 22:04:51,394 allensdk.api.api.retrieve_file_over_http INFO     Downloading URL: http://api.brain-map.org/api/v2/well_known_file_download/395337046\n",
            "INFO:allensdk.api.api.retrieve_file_over_http:Downloading URL: http://api.brain-map.org/api/v2/well_known_file_download/395337046\n",
            "2025-02-28 22:04:51,444 allensdk.api.api.retrieve_file_over_http INFO     Downloading URL: http://api.brain-map.org/api/v2/well_known_file_download/395337015\n",
            "INFO:allensdk.api.api.retrieve_file_over_http:Downloading URL: http://api.brain-map.org/api/v2/well_known_file_download/395337015\n",
            "2025-02-28 22:04:51,487 allensdk.api.api.retrieve_file_over_http INFO     Downloading URL: http://api.brain-map.org/api/v2/well_known_file_download/395337066\n",
            "INFO:allensdk.api.api.retrieve_file_over_http:Downloading URL: http://api.brain-map.org/api/v2/well_known_file_download/395337066\n",
            "2025-02-28 22:04:51,533 allensdk.api.api.retrieve_file_over_http INFO     Downloading URL: http://api.brain-map.org/api/v2/well_known_file_download/464138096\n",
            "INFO:allensdk.api.api.retrieve_file_over_http:Downloading URL: http://api.brain-map.org/api/v2/well_known_file_download/464138096\n",
            "2025-02-28 22:04:51,582 allensdk.api.api.retrieve_file_over_http INFO     Downloading URL: http://api.brain-map.org/api/v2/well_known_file_download/395337007\n",
            "INFO:allensdk.api.api.retrieve_file_over_http:Downloading URL: http://api.brain-map.org/api/v2/well_known_file_download/395337007\n",
            "2025-02-28 22:04:51,629 allensdk.api.api.retrieve_file_over_http INFO     Downloading URL: http://api.brain-map.org/api/v2/well_known_file_download/395337062\n",
            "INFO:allensdk.api.api.retrieve_file_over_http:Downloading URL: http://api.brain-map.org/api/v2/well_known_file_download/395337062\n",
            "2025-02-28 22:04:51,673 allensdk.api.api.retrieve_file_over_http INFO     Downloading URL: http://api.brain-map.org/api/v2/well_known_file_download/491113425\n",
            "INFO:allensdk.api.api.retrieve_file_over_http:Downloading URL: http://api.brain-map.org/api/v2/well_known_file_download/491113425\n",
            "2025-02-28 22:04:51,718 allensdk.api.api.retrieve_file_over_http INFO     Downloading URL: http://api.brain-map.org/api/v2/well_known_file_download/395337070\n",
            "INFO:allensdk.api.api.retrieve_file_over_http:Downloading URL: http://api.brain-map.org/api/v2/well_known_file_download/395337070\n",
            "2025-02-28 22:04:51,762 allensdk.api.api.retrieve_file_over_http INFO     Downloading URL: http://api.brain-map.org/api/v2/well_known_file_download/531347691\n",
            "INFO:allensdk.api.api.retrieve_file_over_http:Downloading URL: http://api.brain-map.org/api/v2/well_known_file_download/531347691\n"
          ]
        },
        {
          "output_type": "stream",
          "name": "stdout",
          "text": [
            "Download complete.\n"
          ]
        }
      ]
    },
    {
      "cell_type": "code",
      "source": [
        "!nrnivmodl modfiles\n",
        "\n",
        "description = Config().load('manifest.json')\n",
        "utils = Utils(description)\n",
        "h = utils.h\n",
        "\n",
        "# Convert all \"value\" attributes to floats\n",
        "for dict in utils.description.data['genome']:\n",
        "    for key, value in dict.items():\n",
        "        if key == 'value': dict[key] = float(value)"
      ],
      "metadata": {
        "id": "FHskR9YUpnPh",
        "colab": {
          "base_uri": "https://localhost:8080/"
        },
        "outputId": "578bcfe3-2b9f-4983-ff8a-0da7aa14ee31"
      },
      "execution_count": 6,
      "outputs": [
        {
          "output_type": "stream",
          "name": "stdout",
          "text": [
            "/usr/local/bin/nrnivmodl:10: DeprecationWarning: pkg_resources is deprecated as an API. See https://setuptools.pypa.io/en/latest/pkg_resources.html\n",
            "  from pkg_resources import working_set\n",
            "/content\n",
            "Mod files: \"modfiles/modfiles/CaDynamics.mod\" \"modfiles/modfiles/Ca_HVA.mod\" \"modfiles/modfiles/Ca_LVA.mod\" \"modfiles/modfiles/Ih.mod\" \"modfiles/modfiles/Im.mod\" \"modfiles/modfiles/Im_v2.mod\" \"modfiles/modfiles/Kd.mod\" \"modfiles/modfiles/K_P.mod\" \"modfiles/modfiles/K_T.mod\" \"modfiles/modfiles/Kv2like.mod\" \"modfiles/modfiles/Kv3_1.mod\" \"modfiles/modfiles/Nap.mod\" \"modfiles/modfiles/NaTa.mod\" \"modfiles/modfiles/NaTs.mod\" \"modfiles/modfiles/NaV.mod\" \"modfiles/modfiles/SK.mod\"\n",
            "\n",
            "Creating 'x86_64' directory for .o files.\n",
            "\n",
            " -> \u001b[32mNMODL\u001b[0m ../modfiles/CaDynamics.mod\n",
            " -> \u001b[32mNMODL\u001b[0m ../modfiles/Ca_HVA.mod\n",
            " -> \u001b[32mCompiling\u001b[0m mod_func.cpp\n",
            " -> \u001b[32mNMODL\u001b[0m ../modfiles/Ca_LVA.mod\n",
            "Translating CaDynamics.mod into /content/x86_64/CaDynamics.c\n",
            "Thread Safe\n",
            "Translating Ca_HVA.mod into /content/x86_64/Ca_HVA.c\n",
            " -> \u001b[32mNMODL\u001b[0m ../modfiles/Ih.mod\n",
            "Thread Safe\n",
            "Translating Ca_LVA.mod into /content/x86_64/Ca_LVA.c\n",
            "Thread Safe\n",
            "Translating Ih.mod into /content/x86_64/Ih.c\n",
            " -> \u001b[32mNMODL\u001b[0m ../modfiles/Im.mod\n",
            " -> \u001b[32mNMODL\u001b[0m ../modfiles/Im_v2.mod\n",
            "Thread Safe\n",
            " -> \u001b[32mNMODL\u001b[0m ../modfiles/Kd.mod\n",
            "Translating Im.mod into /content/x86_64/Im.c\n",
            "Translating Im_v2.mod into /content/x86_64/Im_v2.c\n",
            "Thread Safe\n",
            "Thread Safe\n",
            " -> \u001b[32mNMODL\u001b[0m ../modfiles/K_P.mod\n",
            " -> \u001b[32mNMODL\u001b[0m ../modfiles/K_T.mod\n",
            "Translating Kd.mod into /content/x86_64/Kd.c\n",
            "Thread Safe\n",
            "Translating K_P.mod into /content/x86_64/K_P.c\n",
            " -> \u001b[32mNMODL\u001b[0m ../modfiles/Kv2like.mod\n",
            "Thread Safe\n",
            "Translating K_T.mod into /content/x86_64/K_T.c\n",
            "Translating Kv2like.mod into /content/x86_64/Kv2like.c\n",
            "Thread Safe\n",
            " -> \u001b[32mNMODL\u001b[0m ../modfiles/Kv3_1.mod\n",
            "Thread Safe\n",
            " -> \u001b[32mNMODL\u001b[0m ../modfiles/Nap.mod\n",
            " -> \u001b[32mNMODL\u001b[0m ../modfiles/NaTa.mod\n",
            "Translating Kv3_1.mod into /content/x86_64/Kv3_1.c\n",
            "Thread Safe\n",
            "Translating Nap.mod into /content/x86_64/Nap.c\n",
            "Translating NaTa.mod into /content/x86_64/NaTa.c\n",
            "Thread Safe\n",
            "Thread Safe\n",
            " -> \u001b[32mNMODL\u001b[0m ../modfiles/NaTs.mod\n",
            " -> \u001b[32mNMODL\u001b[0m ../modfiles/NaV.mod\n",
            " -> \u001b[32mNMODL\u001b[0m ../modfiles/SK.mod\n",
            "Translating NaTs.mod into /content/x86_64/NaTs.c\n",
            "Translating NaV.mod into /content/x86_64/NaV.c\n",
            "Thread Safe\n",
            "NEURON's CVode method ignores conservation\n",
            "Notice: LINEAR is not thread safe.\n",
            "Translating SK.mod into /content/x86_64/SK.c\n",
            " -> \u001b[32mCompiling\u001b[0m CaDynamics.c\n",
            " -> \u001b[32mCompiling\u001b[0m Ca_HVA.c\n",
            "Thread Safe\n",
            " -> \u001b[32mCompiling\u001b[0m Ca_LVA.c\n",
            " -> \u001b[32mCompiling\u001b[0m Ih.c\n",
            " -> \u001b[32mCompiling\u001b[0m Im.c\n",
            " -> \u001b[32mCompiling\u001b[0m Im_v2.c\n",
            " -> \u001b[32mCompiling\u001b[0m Kd.c\n",
            " -> \u001b[32mCompiling\u001b[0m K_P.c\n",
            " -> \u001b[32mCompiling\u001b[0m K_T.c\n",
            " -> \u001b[32mCompiling\u001b[0m Kv2like.c\n",
            " -> \u001b[32mCompiling\u001b[0m Kv3_1.c\n",
            " -> \u001b[32mCompiling\u001b[0m Nap.c\n",
            " -> \u001b[32mCompiling\u001b[0m NaTa.c\n",
            " -> \u001b[32mCompiling\u001b[0m NaTs.c\n",
            " -> \u001b[32mCompiling\u001b[0m NaV.c\n",
            " -> \u001b[32mCompiling\u001b[0m SK.c\n",
            " => \u001b[32mLINKING\u001b[0m shared library ./libnrnmech.so\n",
            " => \u001b[32mLINKING\u001b[0m executable ./special LDFLAGS are:    -pthread\n",
            "Successfully created x86_64/special\n"
          ]
        }
      ]
    },
    {
      "cell_type": "code",
      "source": [
        "manifest = description.manifest\n",
        "morphology_path = manifest.get_path('MORPHOLOGY')\n",
        "utils.generate_morphology(morphology_path.encode('ascii', 'ignore'))\n",
        "\n",
        "# Set default passive properties\n",
        "passive = {\n",
        "    \"ra\": 100,\n",
        "    \"cm\": [\n",
        "        {\"section\": \"soma\", \"cm\": 1},\n",
        "        {\"section\": \"axon\", \"cm\": 1},\n",
        "        {\"section\": \"dend\", \"cm\": 1},\n",
        "        {\"section\": \"apic\", \"cm\": 1}\n",
        "    ],\n",
        "    \"e_pas\": -65.75\n",
        "}\n",
        "utils.description.data[\"passive\"][0] = passive\n",
        "\n",
        "utils.load_cell_parameters()"
      ],
      "metadata": {
        "id": "_n8_xEz8pnNB"
      },
      "execution_count": 16,
      "outputs": []
    },
    {
      "cell_type": "code",
      "source": [
        "print(utils.description.data)"
      ],
      "metadata": {
        "colab": {
          "base_uri": "https://localhost:8080/"
        },
        "id": "_a9iut5r1J78",
        "outputId": "3caf0ca1-7cd8-4472-e40e-7767c23781de"
      },
      "execution_count": 17,
      "outputs": [
        {
          "output_type": "stream",
          "name": "stdout",
          "text": [
            "{'biophys': [{'model_file': ['manifest.json', 'fit_486132712_f9.json'], 'model_type': 'Biophysical - perisomatic'}], 'runs': [{'sweeps': [4, 5, 6, 7, 8, 9, 10, 11, 12, 13, 14, 15, 16, 17, 18, 19, 20, 21, 22, 23, 24, 26, 27, 28, 29, 30, 31, 32, 33, 34, 35, 36, 37, 38, 39, 40, 41, 42, 43, 44, 45, 46, 48, 49, 50, 51, 52, 53, 54, 56, 57, 58, 59, 60, 61, 62, 63, 64, 65, 66, 67, 70, 71, 93, 94, 95, 96, 97, 98, 99, 100, 101, 102, 103, 104, 105, 106, 107, 108, 109, 110, 111, 112, 113, 114]}], 'neuron': [{'hoc': ['stdgui.hoc', 'import3d.hoc']}], 'passive': [{'ra': 100, 'cm': [{'section': 'soma', 'cm': 1}, {'section': 'axon', 'cm': 1}, {'section': 'dend', 'cm': 1}, {'section': 'apic', 'cm': 1}], 'e_pas': -65.75}], 'fitting': [{'junction_potential': -14.0, 'sweeps': [56, 57, 58, 59]}], 'conditions': [{'celsius': 34.0, 'erev': [{'ena': 53.0, 'section': 'soma', 'ek': -107.0}], 'v_init': -82.34514617919922}], 'genome': [{'section': 'soma', 'name': 'gbar_Im', 'value': 3.5831046068113176e-07, 'mechanism': 'Im'}, {'section': 'soma', 'name': 'gbar_Ih', 'value': 0.0008245594452786766, 'mechanism': 'Ih'}, {'section': 'soma', 'name': 'gbar_NaTs', 'value': 1.7057586476320825, 'mechanism': 'NaTs'}, {'section': 'soma', 'name': 'gbar_Nap', 'value': 0.001237343601431547, 'mechanism': 'Nap'}, {'section': 'soma', 'name': 'gbar_K_P', 'value': 0.04406692443321632, 'mechanism': 'K_P'}, {'section': 'soma', 'name': 'gbar_K_T', 'value': 0.0036854358538674914, 'mechanism': 'K_T'}, {'section': 'soma', 'name': 'gbar_SK', 'value': 0.15513355160133413, 'mechanism': 'SK'}, {'section': 'soma', 'name': 'gbar_Kv3_1', 'value': 0.236284146732532, 'mechanism': 'Kv3_1'}, {'section': 'soma', 'name': 'gbar_Ca_HVA', 'value': 0.0005567642442145845, 'mechanism': 'Ca_HVA'}, {'section': 'soma', 'name': 'gbar_Ca_LVA', 'value': 0.00857270720241457, 'mechanism': 'Ca_LVA'}, {'section': 'soma', 'name': 'gamma_CaDynamics', 'value': 3.5960605745938294e-05, 'mechanism': 'CaDynamics'}, {'section': 'soma', 'name': 'decay_CaDynamics', 'value': 446.2691246326407, 'mechanism': 'CaDynamics'}, {'section': 'soma', 'name': 'g_pas', 'value': 0.0008551598984258801, 'mechanism': ''}, {'section': 'axon', 'name': 'g_pas', 'value': 0.0009515728263821789, 'mechanism': ''}, {'section': 'dend', 'name': 'g_pas', 'value': 6.811706250184947e-06, 'mechanism': ''}, {'section': 'apic', 'name': 'g_pas', 'value': 7.239647951784895e-05, 'mechanism': ''}]}\n"
          ]
        }
      ]
    },
    {
      "cell_type": "code",
      "source": [
        "soma_area = 0.0\n",
        "for sec in h.soma:\n",
        "    # Approximate surface area for a cylinder: area = π * diameter * length\n",
        "    soma_area += math.pi * sec.diam * sec.L\n",
        "print(f\"Estimated soma area: {soma_area:.2f} µm²\")"
      ],
      "metadata": {
        "id": "jrd1mO5tpnKr",
        "colab": {
          "base_uri": "https://localhost:8080/"
        },
        "outputId": "0ddca053-cffd-44a8-bc0e-de383c51de97"
      },
      "execution_count": 18,
      "outputs": [
        {
          "output_type": "stream",
          "name": "stdout",
          "text": [
            "Estimated soma area: 318.93 µm²\n"
          ]
        }
      ]
    },
    {
      "cell_type": "code",
      "source": [
        "new_gbar_leak = (1 / desired_R_in) / soma_area\n",
        "print(f\"Updating g-bar-leak to {new_gbar_leak:.5f} (units depend on model specifics)\")\n",
        "utils.description.data[\"passive\"][0][\"gbar_leak\"] = new_gbar_leak\n",
        "utils.load_cell_parameters()"
      ],
      "metadata": {
        "id": "KdNwtrr_pnIJ",
        "colab": {
          "base_uri": "https://localhost:8080/"
        },
        "outputId": "fed77b50-2ee9-41cf-afe8-4666f1a77c68"
      },
      "execution_count": 19,
      "outputs": [
        {
          "output_type": "stream",
          "name": "stdout",
          "text": [
            "Updating g-bar-leak to 0.03136 (units depend on model specifics)\n"
          ]
        }
      ]
    },
    {
      "cell_type": "code",
      "source": [
        "# Set up a negative current injection at the soma\n",
        "stim = h.IClamp(h.soma[0](0.5))\n",
        "stim.amp = -0.1\n",
        "stim.delay = 100.0\n",
        "stim.dur = 800.0\n",
        "h.tstop = 1000.0\n",
        "\n",
        "# Record voltage data using provided utility\n",
        "vec = utils.record_values()"
      ],
      "metadata": {
        "id": "8X6fhq66pnFl"
      },
      "execution_count": 20,
      "outputs": []
    },
    {
      "cell_type": "code",
      "source": [
        "# Initialize and run the simulation\n",
        "h.finitialize()\n",
        "h.run()"
      ],
      "metadata": {
        "id": "aGJ1W4bIpnDJ",
        "colab": {
          "base_uri": "https://localhost:8080/"
        },
        "outputId": "3174b20e-c3ac-4546-a2b9-c9b23bd0add8"
      },
      "execution_count": 21,
      "outputs": [
        {
          "output_type": "execute_result",
          "data": {
            "text/plain": [
              "0.0"
            ]
          },
          "metadata": {},
          "execution_count": 21
        }
      ]
    },
    {
      "cell_type": "code",
      "source": [
        "# Convert recorded vectors to NumPy arrays for analysis\n",
        "t = vec['t'].as_numpy()\n",
        "v = vec['v'].as_numpy()\n",
        "\n",
        "# Estimate resting voltage (average before current injection, t < 100 ms)\n",
        "V_rest = v[t < 100].mean()"
      ],
      "metadata": {
        "id": "13iOpfy8pnAZ"
      },
      "execution_count": 22,
      "outputs": []
    },
    {
      "cell_type": "code",
      "source": [
        "# Find the minimum voltage during the injection period (100 ms <= t <= 900 ms)\n",
        "injection_indices = (t >= 100) & (t <= 900)\n",
        "V_trough = v[injection_indices].min()\n",
        "\n",
        "# Compute the estimated input resistance\n",
        "R_in_estimated = (V_rest - V_trough) / 0.1"
      ],
      "metadata": {
        "id": "YIcd7Qe3pm9w"
      },
      "execution_count": 23,
      "outputs": []
    },
    {
      "cell_type": "code",
      "source": [
        "print(f\"\\nEstimated input resistance from simulation: {R_in_estimated:.2f} MOhm\")\n",
        "\n",
        "plt.figure(figsize=(8, 4))\n",
        "plt.plot(t, v)\n",
        "plt.xlabel(\"Time (ms)\")\n",
        "plt.ylabel(\"Voltage (mV)\")\n",
        "plt.title(\"Voltage Trace during Negative Current Injection\")\n",
        "plt.show()"
      ],
      "metadata": {
        "id": "z2ZjyGFIqAHa",
        "colab": {
          "base_uri": "https://localhost:8080/",
          "height": 445
        },
        "outputId": "c63d0324-f3b8-4822-a10c-f8fb5a486ac5"
      },
      "execution_count": 24,
      "outputs": [
        {
          "output_type": "stream",
          "name": "stdout",
          "text": [
            "\n",
            "Estimated input resistance from simulation: 153.26 MOhm\n"
          ]
        },
        {
          "output_type": "display_data",
          "data": {
            "text/plain": [
              "<Figure size 800x400 with 1 Axes>"
            ],
            "image/png": "[encoded data removed]"
          },
          "metadata": {}
        }
      ]
    }
  ]
}