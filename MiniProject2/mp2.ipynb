{
 "cells": [
  {
   "cell_type": "markdown",
   "metadata": {},
   "source": [
    "# Bipolar vs Refferential Montages\n",
    "\n",
    "EEG recordings measure brain activity in real time, are non-invasive, and are relatively low-cost. They have excellent timing but do not pinpoint the exact source of the signals in the brain. One downside is that EEG is sensitive to noise and can pick up unwanted signals or artifacts. In a bipolar montage the difference between two neighboring electrodes is measured, which helps highlight local brain activity and reduces common noise. However, this approach might miss activity that is spread across larger brain regions. In a referential montage, each electrode's signal is compared to a common reference, often the average of all electrodes, to capture a broader picture of brain activity. This method can show overall brain patterns but may introduce extra artifacts related to the choice of reference. The choice of montage depends on whether you need detailed local information or a general view of overall brain activity."
   ]
  },
  {
   "cell_type": "code",
   "execution_count": 1,
   "metadata": {},
   "outputs": [
    {
     "name": "stdout",
     "output_type": "stream",
     "text": [
      "Requirement already satisfied: kagglehub in c:\\users\\nolan\\anaconda3\\lib\\site-packages (0.3.10)\n",
      "Requirement already satisfied: packaging in c:\\users\\nolan\\anaconda3\\lib\\site-packages (from kagglehub) (24.1)\n",
      "Requirement already satisfied: pyyaml in c:\\users\\nolan\\anaconda3\\lib\\site-packages (from kagglehub) (6.0.1)\n",
      "Requirement already satisfied: requests in c:\\users\\nolan\\anaconda3\\lib\\site-packages (from kagglehub) (2.32.3)\n",
      "Requirement already satisfied: tqdm in c:\\users\\nolan\\anaconda3\\lib\\site-packages (from kagglehub) (4.66.5)\n",
      "Requirement already satisfied: charset-normalizer<4,>=2 in c:\\users\\nolan\\anaconda3\\lib\\site-packages (from requests->kagglehub) (3.3.2)\n",
      "Requirement already satisfied: idna<4,>=2.5 in c:\\users\\nolan\\anaconda3\\lib\\site-packages (from requests->kagglehub) (3.7)\n",
      "Requirement already satisfied: urllib3<3,>=1.21.1 in c:\\users\\nolan\\anaconda3\\lib\\site-packages (from requests->kagglehub) (2.2.3)\n",
      "Requirement already satisfied: certifi>=2017.4.17 in c:\\users\\nolan\\anaconda3\\lib\\site-packages (from requests->kagglehub) (2024.8.30)\n",
      "Requirement already satisfied: colorama in c:\\users\\nolan\\anaconda3\\lib\\site-packages (from tqdm->kagglehub) (0.4.6)\n"
     ]
    }
   ],
   "source": [
    "!pip install kagglehub"
   ]
  },
  {
   "cell_type": "code",
   "execution_count": 2,
   "metadata": {},
   "outputs": [
    {
     "name": "stdout",
     "output_type": "stream",
     "text": [
      "Path to dataset files: C:\\Users\\nolan\\.cache\\kagglehub\\datasets\\wajahat1064\\emotion-recognition-using-eeg-and-computer-games\\versions\\2\n"
     ]
    }
   ],
   "source": [
    "import kagglehub\n",
    "\n",
    "# Download dataset\n",
    "path = kagglehub.dataset_download(\"wajahat1064/emotion-recognition-using-eeg-and-computer-games\")\n",
    "\n",
    "print(\"Path to dataset files:\", path)"
   ]
  },
  {
   "cell_type": "code",
   "execution_count": 3,
   "metadata": {},
   "outputs": [
    {
     "name": "stdout",
     "output_type": "stream",
     "text": [
      "Available channels: ['AF3', 'AF4', 'F3', 'F4', 'F7', 'F8', 'FC5', 'FC6', 'O1', 'O2', 'P7', 'P8', 'T7', 'T8']\n"
     ]
    }
   ],
   "source": [
    "import pandas as pd\n",
    "import numpy as np\n",
    "import matplotlib.pyplot as plt\n",
    "from scipy.signal import butter, filtfilt\n",
    "import ipywidgets as widgets\n",
    "from IPython.display import display, clear_output\n",
    "\n",
    "# Load and prepare the EEG data\n",
    "df = pd.read_csv('/Users/nolan/.cache/kagglehub/datasets/wajahat1064/emotion-recognition-using-eeg-and-computer-games/versions/2/S01G1AllChannels.csv')\n",
    "df = df.dropna(axis=1, how='all')  # Remove columns that are entirely NaN\n",
    "channels = df.columns.tolist()\n",
    "print(\"Available channels:\", channels)\n"
   ]
  },
  {
   "cell_type": "code",
   "execution_count": 4,
   "metadata": {},
   "outputs": [],
   "source": [
    "# global variables and helper functions\n",
    "fs = 256  # Sampling rate (Hz)\n",
    "\n",
    "def bandpass_filter(data, lowcut, highcut, fs, order=4):\n",
    "    nyq = 0.5 * fs\n",
    "    low = lowcut / nyq\n",
    "    high = highcut / nyq\n",
    "    b, a = butter(order, [low, high], btype='band')\n",
    "    y = filtfilt(b, a, data)\n",
    "    return y"
   ]
  },
  {
   "cell_type": "code",
   "execution_count": 5,
   "metadata": {},
   "outputs": [],
   "source": [
    "def process_and_plot(b):\n",
    "    with out:\n",
    "        clear_output(wait=True)\n",
    "        # Retrieve widget values\n",
    "        montage_type = montage_dropdown.value.lower()\n",
    "        low_freq = low_freq_input.value\n",
    "        high_freq = high_freq_input.value\n",
    "        print(\"Montage:\", montage_dropdown.value)\n",
    "        print(\"Frequency range: {} - {} Hz\".format(low_freq, high_freq))\n",
    "        \n",
    "        # Dictionary to hold processed signals\n",
    "        processed_signals = {}\n",
    "        \n",
    "        if montage_type.startswith('reffer'):  # covers 'refferential'\n",
    "            # Referential montage: subtract the average voltage across all channels\n",
    "            data_matrix = df[channels].values  # shape: (n_samples, n_channels)\n",
    "            avg_reference = np.mean(data_matrix, axis=1)\n",
    "            for ch in channels:\n",
    "                processed_signals[ch] = df[ch].values - avg_reference\n",
    "        \n",
    "        elif montage_type.startswith('bipolar'):\n",
    "            # Bipolar montage using a double banana approach.\n",
    "            # Define two chains (if the channels are available):\n",
    "            # Left chain: AF3 → F3 → FC5 → T7 → P7 → O1\n",
    "            # Right chain: AF4 → F4 → FC6 → T8 → P8 → O2\n",
    "            left_chain = [ch for ch in ['AF3', 'F3', 'FC5', 'T7', 'P7', 'O1'] if ch in channels]\n",
    "            right_chain = [ch for ch in ['AF4', 'F4', 'FC6', 'T8', 'P8', 'O2'] if ch in channels]\n",
    "            for chain in [left_chain, right_chain]:\n",
    "                for i in range(len(chain) - 1):\n",
    "                    ch1 = chain[i]\n",
    "                    ch2 = chain[i + 1]\n",
    "                    bipolar_name = f\"{ch1}-{ch2}\"\n",
    "                    # Subtract the voltage of the electrode behind from the electrode in front\n",
    "                    processed_signals[bipolar_name] = df[ch1].values - df[ch2].values\n",
    "        else:\n",
    "            print(\"Invalid montage type selected.\")\n",
    "            return\n",
    "        \n",
    "        # Apply the band-pass filter to each processed signal\n",
    "        for key in processed_signals:\n",
    "            processed_signals[key] = bandpass_filter(processed_signals[key], low_freq, high_freq, fs)\n",
    "        \n",
    "        # Compute stats\n",
    "        aggregate_stats = {}\n",
    "        for key, signal in processed_signals.items():\n",
    "            mean_val = np.mean(signal)\n",
    "            var_val = np.var(signal)\n",
    "            # Fano factor: variance divided by the absolute mean (with a safeguard for near-zero mean)\n",
    "            fano = var_val / np.abs(mean_val) if np.abs(mean_val) > 1e-6 else np.nan\n",
    "            aggregate_stats[key] = {'mean': mean_val, 'variance': var_val, 'fano_factor': fano}\n",
    "        \n",
    "        # Plot each processed channel in a grid (dashboard format)\n",
    "        n_signals = len(processed_signals)\n",
    "        cols = 3  # Number of columns in the grid\n",
    "        rows = int(np.ceil(n_signals / cols))\n",
    "        fig, axes = plt.subplots(rows, cols, figsize=(15, rows*3), squeeze=False)\n",
    "        axes = axes.flatten()\n",
    "        \n",
    "        for i, (key, signal) in enumerate(processed_signals.items()):\n",
    "            ax = axes[i]\n",
    "            ax.plot(signal)\n",
    "            stats = aggregate_stats[key]\n",
    "            ax.set_title(f\"{key}\\nMean: {stats['mean']:.2f}, Var: {stats['variance']:.2f}, Fano: {stats['fano_factor']:.2f}\")\n",
    "            ax.set_xlabel(\"Sample\")\n",
    "            ax.set_ylabel(\"Voltage (µV)\")\n",
    "        # Turn off unused subplots\n",
    "        for j in range(i+1, len(axes)):\n",
    "            axes[j].axis('off')\n",
    "        \n",
    "        plt.tight_layout()\n",
    "        plt.show()\n",
    "        \n",
    "        # Display stats as df\n",
    "        stats_df = pd.DataFrame(aggregate_stats).T\n",
    "        print(\"Aggregate statistics for each channel:\")\n",
    "        display(stats_df)\n",
    "\n"
   ]
  },
  {
   "cell_type": "code",
   "execution_count": 6,
   "metadata": {},
   "outputs": [
    {
     "data": {
      "application/vnd.jupyter.widget-view+json": {
       "model_id": "f0393579d0d44db9aee509ac080afb43",
       "version_major": 2,
       "version_minor": 0
      },
      "text/plain": [
       "Dropdown(description='Montage Type:', options=('Bipolar', 'Refferential'), value='Bipolar')"
      ]
     },
     "metadata": {},
     "output_type": "display_data"
    },
    {
     "data": {
      "application/vnd.jupyter.widget-view+json": {
       "model_id": "1d5ad80002294439867f57abf9a5e575",
       "version_major": 2,
       "version_minor": 0
      },
      "text/plain": [
       "FloatText(value=1.0, description='Low Freq:')"
      ]
     },
     "metadata": {},
     "output_type": "display_data"
    },
    {
     "data": {
      "application/vnd.jupyter.widget-view+json": {
       "model_id": "118e49644f73465da113f3a7d4b4fb28",
       "version_major": 2,
       "version_minor": 0
      },
      "text/plain": [
       "FloatText(value=10.0, description='High Freq:')"
      ]
     },
     "metadata": {},
     "output_type": "display_data"
    },
    {
     "data": {
      "application/vnd.jupyter.widget-view+json": {
       "model_id": "5880cab52af74aaa813e541d42a8c44a",
       "version_major": 2,
       "version_minor": 0
      },
      "text/plain": [
       "Button(description='Process Data', style=ButtonStyle())"
      ]
     },
     "metadata": {},
     "output_type": "display_data"
    },
    {
     "data": {
      "application/vnd.jupyter.widget-view+json": {
       "model_id": "8f58fb6fd35a46a3846c4e668159ad90",
       "version_major": 2,
       "version_minor": 0
      },
      "text/plain": [
       "Output()"
      ]
     },
     "metadata": {},
     "output_type": "display_data"
    }
   ],
   "source": [
    "# user input\n",
    "low_freq_input = widgets.FloatText(value=1.0, description='Low Freq:')\n",
    "high_freq_input = widgets.FloatText(value=10.0, description='High Freq:')\n",
    "montage_types = [\"Bipolar\", \"Refferential\"]\n",
    "montage_dropdown = widgets.Dropdown(options=montage_types, description='Montage Type:')\n",
    "process_button = widgets.Button(description=\"Process Data\")\n",
    "process_button.on_click(process_and_plot)\n",
    "\n",
    "out = widgets.Output()\n",
    "\n",
    "display(montage_dropdown, low_freq_input, high_freq_input, process_button, out)"
   ]
  },
  {
   "cell_type": "code",
   "execution_count": null,
   "metadata": {},
   "outputs": [],
   "source": []
  }
 ],
 "metadata": {
  "kernelspec": {
   "display_name": "base",
   "language": "python",
   "name": "python3"
  },
  "language_info": {
   "codemirror_mode": {
    "name": "ipython",
    "version": 3
   },
   "file_extension": ".py",
   "mimetype": "text/x-python",
   "name": "python",
   "nbconvert_exporter": "python",
   "pygments_lexer": "ipython3",
   "version": "3.12.7"
  }
 },
 "nbformat": 4,
 "nbformat_minor": 2
}
