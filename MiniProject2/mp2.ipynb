{
 "cells": [
  {
   "cell_type": "markdown",
   "metadata": {},
   "source": [
    "# Import and put data into dataframe"
   ]
  },
  {
   "cell_type": "code",
   "execution_count": 5,
   "metadata": {},
   "outputs": [
    {
     "name": "stdout",
     "output_type": "stream",
     "text": [
      "Path to dataset files: /Users/nolanrink/.cache/kagglehub/datasets/wajahat1064/emotion-recognition-using-eeg-and-computer-games/versions/2\n"
     ]
    }
   ],
   "source": [
    "import kagglehub\n",
    "\n",
    "# Download latest version\n",
    "path = kagglehub.dataset_download(\"wajahat1064/emotion-recognition-using-eeg-and-computer-games\")\n",
    "\n",
    "print(\"Path to dataset files:\", path)"
   ]
  },
  {
   "cell_type": "code",
   "execution_count": 6,
   "metadata": {},
   "outputs": [
    {
     "data": {
      "text/html": [
       "<div>\n",
       "<style scoped>\n",
       "    .dataframe tbody tr th:only-of-type {\n",
       "        vertical-align: middle;\n",
       "    }\n",
       "\n",
       "    .dataframe tbody tr th {\n",
       "        vertical-align: top;\n",
       "    }\n",
       "\n",
       "    .dataframe thead th {\n",
       "        text-align: right;\n",
       "    }\n",
       "</style>\n",
       "<table border=\"1\" class=\"dataframe\">\n",
       "  <thead>\n",
       "    <tr style=\"text-align: right;\">\n",
       "      <th></th>\n",
       "      <th>AF3</th>\n",
       "      <th>AF4</th>\n",
       "      <th>F3</th>\n",
       "      <th>F4</th>\n",
       "      <th>F7</th>\n",
       "      <th>F8</th>\n",
       "      <th>FC5</th>\n",
       "      <th>FC6</th>\n",
       "      <th>O1</th>\n",
       "      <th>O2</th>\n",
       "      <th>P7</th>\n",
       "      <th>P8</th>\n",
       "      <th>T7</th>\n",
       "      <th>T8</th>\n",
       "      <th>Unnamed: 14</th>\n",
       "    </tr>\n",
       "  </thead>\n",
       "  <tbody>\n",
       "    <tr>\n",
       "      <th>0</th>\n",
       "      <td>-33.0205</td>\n",
       "      <td>-15.1846</td>\n",
       "      <td>-42.1795</td>\n",
       "      <td>1.6872</td>\n",
       "      <td>42.1793</td>\n",
       "      <td>-1.68720</td>\n",
       "      <td>-5.5436</td>\n",
       "      <td>-3.6154</td>\n",
       "      <td>25.7899</td>\n",
       "      <td>-9.88190</td>\n",
       "      <td>5.5436</td>\n",
       "      <td>7.47180</td>\n",
       "      <td>11.8101</td>\n",
       "      <td>17.1128</td>\n",
       "      <td>NaN</td>\n",
       "    </tr>\n",
       "    <tr>\n",
       "      <th>1</th>\n",
       "      <td>-28.6291</td>\n",
       "      <td>-20.0583</td>\n",
       "      <td>-42.5410</td>\n",
       "      <td>-10.4653</td>\n",
       "      <td>35.3100</td>\n",
       "      <td>-15.68600</td>\n",
       "      <td>-19.3110</td>\n",
       "      <td>-2.4344</td>\n",
       "      <td>17.4933</td>\n",
       "      <td>3.24420</td>\n",
       "      <td>18.7081</td>\n",
       "      <td>5.09510</td>\n",
       "      <td>17.3683</td>\n",
       "      <td>3.0708</td>\n",
       "      <td>NaN</td>\n",
       "    </tr>\n",
       "    <tr>\n",
       "      <th>2</th>\n",
       "      <td>-21.8497</td>\n",
       "      <td>-10.9006</td>\n",
       "      <td>-32.0346</td>\n",
       "      <td>-2.3656</td>\n",
       "      <td>39.6993</td>\n",
       "      <td>-0.64483</td>\n",
       "      <td>-4.0523</td>\n",
       "      <td>-1.0830</td>\n",
       "      <td>26.8081</td>\n",
       "      <td>-3.45840</td>\n",
       "      <td>8.1861</td>\n",
       "      <td>8.40480</td>\n",
       "      <td>15.1209</td>\n",
       "      <td>9.3940</td>\n",
       "      <td>NaN</td>\n",
       "    </tr>\n",
       "    <tr>\n",
       "      <th>3</th>\n",
       "      <td>-25.1185</td>\n",
       "      <td>-10.9702</td>\n",
       "      <td>-32.7641</td>\n",
       "      <td>-3.4287</td>\n",
       "      <td>32.7378</td>\n",
       "      <td>4.69650</td>\n",
       "      <td>-8.6299</td>\n",
       "      <td>-1.7412</td>\n",
       "      <td>16.7637</td>\n",
       "      <td>-9.75860</td>\n",
       "      <td>1.1868</td>\n",
       "      <td>0.91086</td>\n",
       "      <td>4.3315</td>\n",
       "      <td>8.1073</td>\n",
       "      <td>NaN</td>\n",
       "    </tr>\n",
       "    <tr>\n",
       "      <th>4</th>\n",
       "      <td>-19.0316</td>\n",
       "      <td>-9.5886</td>\n",
       "      <td>-29.1108</td>\n",
       "      <td>-3.9459</td>\n",
       "      <td>35.3533</td>\n",
       "      <td>0.79929</td>\n",
       "      <td>-12.6914</td>\n",
       "      <td>1.0144</td>\n",
       "      <td>13.1068</td>\n",
       "      <td>-0.73692</td>\n",
       "      <td>8.1054</td>\n",
       "      <td>-1.31300</td>\n",
       "      <td>8.1694</td>\n",
       "      <td>8.3442</td>\n",
       "      <td>NaN</td>\n",
       "    </tr>\n",
       "  </tbody>\n",
       "</table>\n",
       "</div>"
      ],
      "text/plain": [
       "       AF3      AF4       F3       F4       F7        F8      FC5     FC6  \\\n",
       "0 -33.0205 -15.1846 -42.1795   1.6872  42.1793  -1.68720  -5.5436 -3.6154   \n",
       "1 -28.6291 -20.0583 -42.5410 -10.4653  35.3100 -15.68600 -19.3110 -2.4344   \n",
       "2 -21.8497 -10.9006 -32.0346  -2.3656  39.6993  -0.64483  -4.0523 -1.0830   \n",
       "3 -25.1185 -10.9702 -32.7641  -3.4287  32.7378   4.69650  -8.6299 -1.7412   \n",
       "4 -19.0316  -9.5886 -29.1108  -3.9459  35.3533   0.79929 -12.6914  1.0144   \n",
       "\n",
       "        O1       O2       P7       P8       T7       T8  Unnamed: 14  \n",
       "0  25.7899 -9.88190   5.5436  7.47180  11.8101  17.1128          NaN  \n",
       "1  17.4933  3.24420  18.7081  5.09510  17.3683   3.0708          NaN  \n",
       "2  26.8081 -3.45840   8.1861  8.40480  15.1209   9.3940          NaN  \n",
       "3  16.7637 -9.75860   1.1868  0.91086   4.3315   8.1073          NaN  \n",
       "4  13.1068 -0.73692   8.1054 -1.31300   8.1694   8.3442          NaN  "
      ]
     },
     "execution_count": 6,
     "metadata": {},
     "output_type": "execute_result"
    }
   ],
   "source": [
    "import pandas as pd\n",
    "import numpy as np\n",
    "import matplotlib as plt\n",
    "df = pd.read_csv('/Users/nolanrink/.cache/kagglehub/datasets/wajahat1064/emotion-recognition-using-eeg-and-computer-games/versions/2/S01G1AllChannels.csv')\n",
    "df.head()"
   ]
  },
  {
   "cell_type": "markdown",
   "metadata": {},
   "source": [
    "# Define Variables"
   ]
  },
  {
   "cell_type": "code",
   "execution_count": 2,
   "metadata": {},
   "outputs": [],
   "source": [
    "import ipywidgets as widgets\n",
    "from IPython.display import display"
   ]
  },
  {
   "cell_type": "code",
   "execution_count": 3,
   "metadata": {},
   "outputs": [
    {
     "data": {
      "application/vnd.jupyter.widget-view+json": {
       "model_id": "16e1faa37a204ec5939dacde3af89306",
       "version_major": 2,
       "version_minor": 0
      },
      "text/plain": [
       "Dropdown(description='Montage Type:', options=('Bipolar', 'Refferential'), value='Bipolar')"
      ]
     },
     "metadata": {},
     "output_type": "display_data"
    }
   ],
   "source": [
    "montage_types = [\"Bipolar\", \"Refferential\"]\n",
    "montage_dropdown = widgets.Dropdown(\n",
    "    options=montage_types,\n",
    "    description='Montage Type:'\n",
    ")\n",
    "\n",
    "display(montage_dropdown)"
   ]
  },
  {
   "cell_type": "code",
   "execution_count": 8,
   "metadata": {},
   "outputs": [
    {
     "name": "stdout",
     "output_type": "stream",
     "text": [
      "True\n"
     ]
    }
   ],
   "source": [
    "bipolar = True if montage_dropdown.value == \"Bipolar\" else False\n",
    "print(bipolar)"
   ]
  },
  {
   "cell_type": "code",
   "execution_count": null,
   "metadata": {},
   "outputs": [],
   "source": []
  }
 ],
 "metadata": {
  "kernelspec": {
   "display_name": "Python 3",
   "language": "python",
   "name": "python3"
  },
  "language_info": {
   "codemirror_mode": {
    "name": "ipython",
    "version": 3
   },
   "file_extension": ".py",
   "mimetype": "text/x-python",
   "name": "python",
   "nbconvert_exporter": "python",
   "pygments_lexer": "ipython3",
   "version": "3.11.1"
  }
 },
 "nbformat": 4,
 "nbformat_minor": 2
}
